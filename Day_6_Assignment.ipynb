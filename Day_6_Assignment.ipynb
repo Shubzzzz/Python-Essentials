{
  "nbformat": 4,
  "nbformat_minor": 0,
  "metadata": {
    "colab": {
      "name": "Day 6 Assignment.ipynb",
      "provenance": []
    },
    "kernelspec": {
      "name": "python3",
      "display_name": "Python 3"
    }
  },
  "cells": [
    {
      "cell_type": "markdown",
      "metadata": {
        "id": "ieDsx9GOcHSO",
        "colab_type": "text"
      },
      "source": [
        "Question 1 : list1=[1,2,3,4,5,7,8] list2=[\"a\",\"b\",\"c\",\"d\",\"e\"] Convert to a dictionary in one line code using list comprehension(without using zip method)."
      ]
    },
    {
      "cell_type": "code",
      "metadata": {
        "id": "sE3zNla6bEeH",
        "colab_type": "code",
        "colab": {
          "base_uri": "https://localhost:8080/",
          "height": 34
        },
        "outputId": "a256c84e-bfac-499b-8814-d818f99f658a"
      },
      "source": [
        "A = [1,2,3,4,5,7,8]\n",
        "B = [\"a\",\"b\",\"c\",\"d\",\"e\"]\n",
        "print({A[i] : B[i]   for i in range( min(len(A),len(B)) ) })"
      ],
      "execution_count": 26,
      "outputs": [
        {
          "output_type": "stream",
          "text": [
            "{1: 'a', 2: 'b', 3: 'c', 4: 'd', 5: 'e'}\n"
          ],
          "name": "stdout"
        }
      ]
    },
    {
      "cell_type": "code",
      "metadata": {
        "id": "xC19mNP5bMFQ",
        "colab_type": "code",
        "colab": {}
      },
      "source": [
        ""
      ],
      "execution_count": 11,
      "outputs": []
    }
  ]
}