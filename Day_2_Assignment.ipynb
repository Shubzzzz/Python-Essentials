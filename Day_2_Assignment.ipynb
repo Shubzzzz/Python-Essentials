{
  "nbformat": 4,
  "nbformat_minor": 0,
  "metadata": {
    "colab": {
      "name": "Day 2 Assignment.ipynb",
      "provenance": []
    },
    "kernelspec": {
      "name": "python3",
      "display_name": "Python 3"
    }
  },
  "cells": [
    {
      "cell_type": "code",
      "metadata": {
        "id": "ZaTKIrM313-i",
        "colab_type": "code",
        "colab": {
          "base_uri": "https://localhost:8080/",
          "height": 935
        },
        "outputId": "ad7830dd-7034-4542-f6ad-4557bb58d0d9"
      },
      "source": [
        "print(\"\"\" ___________________________________________$$s\n",
        "_________________________$____$$s___________s$$s\n",
        "_________________________s$$$$s$$$$$$s________$$$___s$\n",
        "_______________s$$$$$$$$s___s$$$$ss$$$$s________$$$__$$\n",
        "________________________s$$$s__$$$$$s_$$$s___s$__s$$s_$$\n",
        "__________s$$$$$$$$$$$$$$$$$$$$sss$$$$s_$$$s__$$$__s$$s$\n",
        "_____s$$$$$$$$$s_____s$$$$$$$$$$$$$$h$$$__$$$s__$$___$$$s\n",
        "___s$$$$$s_____________________ss$$$$$$$$s_s$$$s$$$__s$$$\n",
        "__________________________s$$$s____s$$$$$$$$s$$$$$$$__$$$\n",
        "_________s$$$$$$$$$$$$$$$s$$$$$$$$$$s$$$$$$$$$ss$$$$s_$$$\n",
        "_____________________s$$$$$$$$$$s$$$s____s$$$$$$__$$$__$$\n",
        "________________s$$$$$$$$$$$$$$$$$$$$$$s_____s$$$s_$$__$$\n",
        "________s$$$$$$$$$$$$$$$$$$$$$$$s$s__s$$$$$$s___$$s_$s$$$\n",
        "_____s$$$$$s$$$$$$$$$$$$$$s____$$s$$$$$$$$$$$$$s____$$$$s\n",
        "___s$$$$__s$$$$$$$$$s_____s$$$$$s$$$$$$$$$$$$$$$$$s__$$$\n",
        "___s$___$$$$$$______s$$$$$$$s_s$$$$$$$$$$$$$$$$$$$$$____$$$\n",
        "______s$$$s___s$$$$$$$$$$$___$$$$$$$$$$$$$$$$$$$$$$$$s$$$$$$$s\n",
        "_____$$$__s$$$$$$$$$$$$$$__$$$$$$$$$$$$$$$$$$$$s$s$_$$$$$$$$$$$\n",
        "____$$$_$$$$$$i$$$$$s_$$__$$$$$$$$$$$$$$$$$$$ss$$$s$$$$$$$$s$$s\n",
        "___$$__$$$__s$$$$ss__$$_$$$$$$$$$$$$$$$$$$$$s$$$$$_$$$$e$$s$\n",
        "__$$_s$$___$$$$s_$$_$$s$$$$$$$$$$$$$$$$$$$$s$$$$$s_$$$$$$s$\n",
        "_s$s$$$___$$$$_s$$__$$__$$$$$$$$$$$$$$$$$$_$$$$$$$_s_$$$\n",
        "_$$s$s__s$$$__$$____s$$__$$$$$$$$$$$$$$$$$_$$$$$$$$__$$$\n",
        "$$_$___$$$$_s$$__$$__$$$s__s$$$$$$$$$$$$$$_$$$$$$$$$$$$s\n",
        "$$____$$$s_$$$__$$$_$_s$$$$s___s$s$$$$$$$$_$$$$$$$$s$$$\n",
        "$____$$$__$$sss$$$$__$_s$$$$$$$$$$s$s$$$$$___s$$$$s$$$s\n",
        "____$$$_s$$$_$s$$$$s_s$__$$$$$$___s$$s_$$$s___s$$$_$$$\n",
        "____$$_s$$$_$$_s$$$$$_s$$___$$$$$________$_____$$$s$$s\n",
        "___s$$_$$$__$$__$$$$$$$$$$s____s$$$$$_________s$$$$$$\n",
        "___$$$s$$$__$$___$$ss$$$$$$$$s____s$$$$$s______$$$$$$\n",
        "___$s$$$$$_s$$__s_$$$_s$$$$$$$$$$s___s$$$$$$$s___sss\n",
        "___$$$$$$$_$$$__$s_$$$$s__s$$$$$$$$$s___$$$$$$$s\n",
        "__s$$$$$$$_$$$s_s$__$$$$$$s__s$$$$$$$$$s__$__$$$$s\n",
        "__$_$$$$s$_s$$$__$$__$$$$$$$$s__$$s$$$$$$$_____$$$$\n",
        "____s$$$_$$_$$$___$$__$s$$$$$$$$_s__s$$$s$$$____$$$$\n",
        "_____$$$__$_$$$$___$$_ss_$$$$$$$$$____$$$$_s$____$$$s\n",
        "_____$$$s_$_s$$$s__$$$____s$$$$$$$$$___s$$$______$$$$\n",
        "_____s$$$_ss_$$$$___$$s____$$$$$$$$$$___$$$$_____s$$$\n",
        "______$k$__$__$$$$__s$$____$$$$$$$h$$____$$$$_____$$s\n",
        "______$$$______$$$s__$$$___$$_$$$$$$$$___s$$$$____$$\n",
        "_______$$s______$$$__s$$$___$_s$$$$$s____s$$$$____$s\n",
        "_______$$$_______$$$_s$$_$__$__$$$$$s____s$$$$___$$\n",
        "________$$_______s$$__$$_______$$$$$s____$$$$$___$s\n",
        "________$$________s$$_$$______s$$$$$_____$$_$$___$\n",
        "___________________$$_$$s_____$$$$$_____$$s_$s\n",
        "____________________$$s$$_____$$$$_____s$$__$\n",
        "____________________s$_$$____$$$s_____s$$\n",
        "_____________________$_$$___$$$______s$$\n",
        "_______________________$$__s$$______$$$\n",
        "________________________$__$$______$$$\n",
        "________________________$_$$s____$$$s\n",
        "__________________________$$___s$$s\n",
        "__________________________$$__$$s\n",
        " \"\"\")"
      ],
      "execution_count": 8,
      "outputs": [
        {
          "output_type": "stream",
          "text": [
            " ___________________________________________$$s\n",
            "_________________________$____$$s___________s$$s\n",
            "_________________________s$$$$s$$$$$$s________$$$___s$\n",
            "_______________s$$$$$$$$s___s$$$$ss$$$$s________$$$__$$\n",
            "________________________s$$$s__$$$$$s_$$$s___s$__s$$s_$$\n",
            "__________s$$$$$$$$$$$$$$$$$$$$sss$$$$s_$$$s__$$$__s$$s$\n",
            "_____s$$$$$$$$$s_____s$$$$$$$$$$$$$$h$$$__$$$s__$$___$$$s\n",
            "___s$$$$$s_____________________ss$$$$$$$$s_s$$$s$$$__s$$$\n",
            "__________________________s$$$s____s$$$$$$$$s$$$$$$$__$$$\n",
            "_________s$$$$$$$$$$$$$$$s$$$$$$$$$$s$$$$$$$$$ss$$$$s_$$$\n",
            "_____________________s$$$$$$$$$$s$$$s____s$$$$$$__$$$__$$\n",
            "________________s$$$$$$$$$$$$$$$$$$$$$$s_____s$$$s_$$__$$\n",
            "________s$$$$$$$$$$$$$$$$$$$$$$$s$s__s$$$$$$s___$$s_$s$$$\n",
            "_____s$$$$$s$$$$$$$$$$$$$$s____$$s$$$$$$$$$$$$$s____$$$$s\n",
            "___s$$$$__s$$$$$$$$$s_____s$$$$$s$$$$$$$$$$$$$$$$$s__$$$\n",
            "___s$___$$$$$$______s$$$$$$$s_s$$$$$$$$$$$$$$$$$$$$$____$$$\n",
            "______s$$$s___s$$$$$$$$$$$___$$$$$$$$$$$$$$$$$$$$$$$$s$$$$$$$s\n",
            "_____$$$__s$$$$$$$$$$$$$$__$$$$$$$$$$$$$$$$$$$$s$s$_$$$$$$$$$$$\n",
            "____$$$_$$$$$$i$$$$$s_$$__$$$$$$$$$$$$$$$$$$$ss$$$s$$$$$$$$s$$s\n",
            "___$$__$$$__s$$$$ss__$$_$$$$$$$$$$$$$$$$$$$$s$$$$$_$$$$e$$s$\n",
            "__$$_s$$___$$$$s_$$_$$s$$$$$$$$$$$$$$$$$$$$s$$$$$s_$$$$$$s$\n",
            "_s$s$$$___$$$$_s$$__$$__$$$$$$$$$$$$$$$$$$_$$$$$$$_s_$$$\n",
            "_$$s$s__s$$$__$$____s$$__$$$$$$$$$$$$$$$$$_$$$$$$$$__$$$\n",
            "$$_$___$$$$_s$$__$$__$$$s__s$$$$$$$$$$$$$$_$$$$$$$$$$$$s\n",
            "$$____$$$s_$$$__$$$_$_s$$$$s___s$s$$$$$$$$_$$$$$$$$s$$$\n",
            "$____$$$__$$sss$$$$__$_s$$$$$$$$$$s$s$$$$$___s$$$$s$$$s\n",
            "____$$$_s$$$_$s$$$$s_s$__$$$$$$___s$$s_$$$s___s$$$_$$$\n",
            "____$$_s$$$_$$_s$$$$$_s$$___$$$$$________$_____$$$s$$s\n",
            "___s$$_$$$__$$__$$$$$$$$$$s____s$$$$$_________s$$$$$$\n",
            "___$$$s$$$__$$___$$ss$$$$$$$$s____s$$$$$s______$$$$$$\n",
            "___$s$$$$$_s$$__s_$$$_s$$$$$$$$$$s___s$$$$$$$s___sss\n",
            "___$$$$$$$_$$$__$s_$$$$s__s$$$$$$$$$s___$$$$$$$s\n",
            "__s$$$$$$$_$$$s_s$__$$$$$$s__s$$$$$$$$$s__$__$$$$s\n",
            "__$_$$$$s$_s$$$__$$__$$$$$$$$s__$$s$$$$$$$_____$$$$\n",
            "____s$$$_$$_$$$___$$__$s$$$$$$$$_s__s$$$s$$$____$$$$\n",
            "_____$$$__$_$$$$___$$_ss_$$$$$$$$$____$$$$_s$____$$$s\n",
            "_____$$$s_$_s$$$s__$$$____s$$$$$$$$$___s$$$______$$$$\n",
            "_____s$$$_ss_$$$$___$$s____$$$$$$$$$$___$$$$_____s$$$\n",
            "______$k$__$__$$$$__s$$____$$$$$$$h$$____$$$$_____$$s\n",
            "______$$$______$$$s__$$$___$$_$$$$$$$$___s$$$$____$$\n",
            "_______$$s______$$$__s$$$___$_s$$$$$s____s$$$$____$s\n",
            "_______$$$_______$$$_s$$_$__$__$$$$$s____s$$$$___$$\n",
            "________$$_______s$$__$$_______$$$$$s____$$$$$___$s\n",
            "________$$________s$$_$$______s$$$$$_____$$_$$___$\n",
            "___________________$$_$$s_____$$$$$_____$$s_$s\n",
            "____________________$$s$$_____$$$$_____s$$__$\n",
            "____________________s$_$$____$$$s_____s$$\n",
            "_____________________$_$$___$$$______s$$\n",
            "_______________________$$__s$$______$$$\n",
            "________________________$__$$______$$$\n",
            "________________________$_$$s____$$$s\n",
            "__________________________$$___s$$s\n",
            "__________________________$$__$$s\n",
            " \n"
          ],
          "name": "stdout"
        }
      ]
    },
    {
      "cell_type": "code",
      "metadata": {
        "id": "K5cr8T4c2Evz",
        "colab_type": "code",
        "colab": {}
      },
      "source": [
        "a=\"\"\"Select * from student\"\"\""
      ],
      "execution_count": 10,
      "outputs": []
    },
    {
      "cell_type": "code",
      "metadata": {
        "id": "_RzSzYs-4RYP",
        "colab_type": "code",
        "colab": {
          "base_uri": "https://localhost:8080/",
          "height": 34
        },
        "outputId": "0b213733-47c3-4e61-8409-abb4835f64df"
      },
      "source": [
        "print(\"Python's World\")"
      ],
      "execution_count": 11,
      "outputs": [
        {
          "output_type": "stream",
          "text": [
            "Python's World\n"
          ],
          "name": "stdout"
        }
      ]
    },
    {
      "cell_type": "code",
      "metadata": {
        "id": "ynGEgpTS4SoI",
        "colab_type": "code",
        "colab": {
          "base_uri": "https://localhost:8080/",
          "height": 34
        },
        "outputId": "91940f56-7a7c-4452-aa58-195d4fd9190a"
      },
      "source": [
        "print(\"Hello \\t Python\")"
      ],
      "execution_count": 13,
      "outputs": [
        {
          "output_type": "stream",
          "text": [
            "Hello \t Python\n"
          ],
          "name": "stdout"
        }
      ]
    },
    {
      "cell_type": "code",
      "metadata": {
        "id": "UsFrChuE3NbL",
        "colab_type": "code",
        "colab": {
          "base_uri": "https://localhost:8080/",
          "height": 51
        },
        "outputId": "2e7ab3ca-6d26-4962-9371-01b9bb0e71fe"
      },
      "source": [
        "print(\"Hello \\n Python\")"
      ],
      "execution_count": 14,
      "outputs": [
        {
          "output_type": "stream",
          "text": [
            "Hello \n",
            " Python\n"
          ],
          "name": "stdout"
        }
      ]
    },
    {
      "cell_type": "code",
      "metadata": {
        "id": "lbS7BmZj45J4",
        "colab_type": "code",
        "colab": {
          "base_uri": "https://localhost:8080/",
          "height": 34
        },
        "outputId": "b507a10c-5079-45df-a7f5-88e3ca3dbee7"
      },
      "source": [
        "print('Python\\'s World')"
      ],
      "execution_count": 15,
      "outputs": [
        {
          "output_type": "stream",
          "text": [
            "Python's World\n"
          ],
          "name": "stdout"
        }
      ]
    },
    {
      "cell_type": "code",
      "metadata": {
        "id": "qzoDTzvL5CDU",
        "colab_type": "code",
        "colab": {
          "base_uri": "https://localhost:8080/",
          "height": 34
        },
        "outputId": "b7f5ea88-3dd4-4c4b-b34f-f874cc7472d6"
      },
      "source": [
        "name=\"abc\"\n",
        "age=\"20\"\n",
        "marks=\"90.890002\"\n",
        "print(\"Name of the person is : \",name,\"marks is : \",marks,\"age is : \",age)"
      ],
      "execution_count": 16,
      "outputs": [
        {
          "output_type": "stream",
          "text": [
            "Name of the person is :  abc marks is :  90.890002 age is :  20\n"
          ],
          "name": "stdout"
        }
      ]
    },
    {
      "cell_type": "code",
      "metadata": {
        "id": "loS_-OIQ5pkr",
        "colab_type": "code",
        "colab": {
          "base_uri": "https://localhost:8080/",
          "height": 34
        },
        "outputId": "f898f829-b28f-419d-f4e0-75eea4faf006"
      },
      "source": [
        "name=\"abc\"\n",
        "age=20\n",
        "marks=90.890002\n",
        "print(\"Name of the person is %s marks is %f age is %d\"%(name,marks,age))"
      ],
      "execution_count": 5,
      "outputs": [
        {
          "output_type": "stream",
          "text": [
            "Name of the person is abc marks is 90.890002 age is 20\n"
          ],
          "name": "stdout"
        }
      ]
    },
    {
      "cell_type": "code",
      "metadata": {
        "id": "JeiMe5PHubqw",
        "colab_type": "code",
        "colab": {
          "base_uri": "https://localhost:8080/",
          "height": 34
        },
        "outputId": "2a579fc9-4d7e-42f3-c979-f4fcd0948c5e"
      },
      "source": [
        "name=\"abc\"\n",
        "age=20\n",
        "marks=90.890002\n",
        "print(\"Name of the person is %10s marks is %10f age is %10d\"%(name,marks,age))"
      ],
      "execution_count": 7,
      "outputs": [
        {
          "output_type": "stream",
          "text": [
            "Name of the person is        abc marks is  90.890002 age is         20\n"
          ],
          "name": "stdout"
        }
      ]
    },
    {
      "cell_type": "code",
      "metadata": {
        "id": "0FsdkniWvtG9",
        "colab_type": "code",
        "colab": {
          "base_uri": "https://localhost:8080/",
          "height": 34
        },
        "outputId": "2ab10dc2-55fa-40db-a6dd-a81346f30140"
      },
      "source": [
        "name=\"abc\"\n",
        "age=20\n",
        "marks=90.890002\n",
        "print(\"Name of the person is %10s marks is %10.2f age is %10d\"%(name,marks,age))"
      ],
      "execution_count": 8,
      "outputs": [
        {
          "output_type": "stream",
          "text": [
            "Name of the person is        abc marks is      90.89 age is         20\n"
          ],
          "name": "stdout"
        }
      ]
    },
    {
      "cell_type": "code",
      "metadata": {
        "id": "7fLKU4vzv58c",
        "colab_type": "code",
        "colab": {
          "base_uri": "https://localhost:8080/",
          "height": 34
        },
        "outputId": "dad73e6a-1486-44e1-a72e-d8fa3661a3dd"
      },
      "source": [
        "name=\"abc\"\n",
        "age=20\n",
        "marks=90.890002\n",
        "print(f\"Name of the person is {name} marks is {marks} age is {age}\")"
      ],
      "execution_count": 10,
      "outputs": [
        {
          "output_type": "stream",
          "text": [
            "Name of the person is abc marks is 90.890002 age is 20\n"
          ],
          "name": "stdout"
        }
      ]
    },
    {
      "cell_type": "code",
      "metadata": {
        "id": "6PPego2swO-R",
        "colab_type": "code",
        "colab": {
          "base_uri": "https://localhost:8080/",
          "height": 34
        },
        "outputId": "bd73a87a-fae2-4c6c-cb65-4a791f88e232"
      },
      "source": [
        "x=20\n",
        "id(x)"
      ],
      "execution_count": 11,
      "outputs": [
        {
          "output_type": "execute_result",
          "data": {
            "text/plain": [
              "10915104"
            ]
          },
          "metadata": {
            "tags": []
          },
          "execution_count": 11
        }
      ]
    },
    {
      "cell_type": "code",
      "metadata": {
        "id": "YuHZsEO0wjqM",
        "colab_type": "code",
        "colab": {
          "base_uri": "https://localhost:8080/",
          "height": 34
        },
        "outputId": "87cef47c-762a-442c-d9ed-841ecad7aa52"
      },
      "source": [
        "y=20\n",
        "id(y)"
      ],
      "execution_count": 12,
      "outputs": [
        {
          "output_type": "execute_result",
          "data": {
            "text/plain": [
              "10915104"
            ]
          },
          "metadata": {
            "tags": []
          },
          "execution_count": 12
        }
      ]
    },
    {
      "cell_type": "code",
      "metadata": {
        "id": "sQSI3kLhwnBX",
        "colab_type": "code",
        "colab": {}
      },
      "source": [
        "del x"
      ],
      "execution_count": 13,
      "outputs": []
    },
    {
      "cell_type": "code",
      "metadata": {
        "id": "1PGwuq0twpu_",
        "colab_type": "code",
        "colab": {
          "base_uri": "https://localhost:8080/",
          "height": 163
        },
        "outputId": "dc206e0d-ca69-4926-e18f-a144fe685b6c"
      },
      "source": [
        "x"
      ],
      "execution_count": 14,
      "outputs": [
        {
          "output_type": "error",
          "ename": "NameError",
          "evalue": "ignored",
          "traceback": [
            "\u001b[0;31m---------------------------------------------------------------------------\u001b[0m",
            "\u001b[0;31mNameError\u001b[0m                                 Traceback (most recent call last)",
            "\u001b[0;32m<ipython-input-14-6fcf9dfbd479>\u001b[0m in \u001b[0;36m<module>\u001b[0;34m()\u001b[0m\n\u001b[0;32m----> 1\u001b[0;31m \u001b[0mx\u001b[0m\u001b[0;34m\u001b[0m\u001b[0;34m\u001b[0m\u001b[0m\n\u001b[0m",
            "\u001b[0;31mNameError\u001b[0m: name 'x' is not defined"
          ]
        }
      ]
    },
    {
      "cell_type": "code",
      "metadata": {
        "id": "i0WziQCmwshH",
        "colab_type": "code",
        "colab": {
          "base_uri": "https://localhost:8080/",
          "height": 34
        },
        "outputId": "e9cc6ed0-4a11-40ac-a9a6-6a805f9a57c8"
      },
      "source": [
        "y"
      ],
      "execution_count": 15,
      "outputs": [
        {
          "output_type": "execute_result",
          "data": {
            "text/plain": [
              "20"
            ]
          },
          "metadata": {
            "tags": []
          },
          "execution_count": 15
        }
      ]
    },
    {
      "cell_type": "code",
      "metadata": {
        "id": "V3X1h_agwte7",
        "colab_type": "code",
        "colab": {
          "base_uri": "https://localhost:8080/",
          "height": 34
        },
        "outputId": "b76955cb-871c-4b4a-e615-d0d52f1151bb"
      },
      "source": [
        "10/2\n"
      ],
      "execution_count": 16,
      "outputs": [
        {
          "output_type": "execute_result",
          "data": {
            "text/plain": [
              "5.0"
            ]
          },
          "metadata": {
            "tags": []
          },
          "execution_count": 16
        }
      ]
    },
    {
      "cell_type": "code",
      "metadata": {
        "id": "epoftrrbw1Z8",
        "colab_type": "code",
        "colab": {
          "base_uri": "https://localhost:8080/",
          "height": 34
        },
        "outputId": "fe7b780f-b090-4711-b50c-47284f48edf9"
      },
      "source": [
        "10//2\n"
      ],
      "execution_count": 17,
      "outputs": [
        {
          "output_type": "execute_result",
          "data": {
            "text/plain": [
              "5"
            ]
          },
          "metadata": {
            "tags": []
          },
          "execution_count": 17
        }
      ]
    },
    {
      "cell_type": "code",
      "metadata": {
        "id": "Y9jz94wTw6V5",
        "colab_type": "code",
        "colab": {
          "base_uri": "https://localhost:8080/",
          "height": 34
        },
        "outputId": "4f4dc596-717a-4f52-caa0-55936a9fd09c"
      },
      "source": [
        "a=240\n",
        "b=1\n",
        "a|b"
      ],
      "execution_count": 18,
      "outputs": [
        {
          "output_type": "execute_result",
          "data": {
            "text/plain": [
              "241"
            ]
          },
          "metadata": {
            "tags": []
          },
          "execution_count": 18
        }
      ]
    },
    {
      "cell_type": "code",
      "metadata": {
        "id": "Ds0zrdIgxDaC",
        "colab_type": "code",
        "colab": {
          "base_uri": "https://localhost:8080/",
          "height": 34
        },
        "outputId": "67da253c-8f36-4cb6-ee3b-b8b091c7797a"
      },
      "source": [
        "a&b\n"
      ],
      "execution_count": 19,
      "outputs": [
        {
          "output_type": "execute_result",
          "data": {
            "text/plain": [
              "0"
            ]
          },
          "metadata": {
            "tags": []
          },
          "execution_count": 19
        }
      ]
    },
    {
      "cell_type": "code",
      "metadata": {
        "id": "P5GCqHYNxGU3",
        "colab_type": "code",
        "colab": {
          "base_uri": "https://localhost:8080/",
          "height": 34
        },
        "outputId": "4f738c1f-7233-4ab5-f92d-b380b7c7ed20"
      },
      "source": [
        "a>20 or 10>9\n"
      ],
      "execution_count": 20,
      "outputs": [
        {
          "output_type": "execute_result",
          "data": {
            "text/plain": [
              "True"
            ]
          },
          "metadata": {
            "tags": []
          },
          "execution_count": 20
        }
      ]
    },
    {
      "cell_type": "code",
      "metadata": {
        "id": "EYfl16yXxMgS",
        "colab_type": "code",
        "colab": {
          "base_uri": "https://localhost:8080/",
          "height": 163
        },
        "outputId": "5c749d59-89a0-43e7-88cd-76b0478cb3a3"
      },
      "source": [
        "10>9 and 20>M"
      ],
      "execution_count": 21,
      "outputs": [
        {
          "output_type": "error",
          "ename": "NameError",
          "evalue": "ignored",
          "traceback": [
            "\u001b[0;31m---------------------------------------------------------------------------\u001b[0m",
            "\u001b[0;31mNameError\u001b[0m                                 Traceback (most recent call last)",
            "\u001b[0;32m<ipython-input-21-9b6b05d7a0cf>\u001b[0m in \u001b[0;36m<module>\u001b[0;34m()\u001b[0m\n\u001b[0;32m----> 1\u001b[0;31m \u001b[0;36m10\u001b[0m\u001b[0;34m>\u001b[0m\u001b[0;36m9\u001b[0m \u001b[0;32mand\u001b[0m \u001b[0;36m20\u001b[0m\u001b[0;34m>\u001b[0m\u001b[0mM\u001b[0m\u001b[0;34m\u001b[0m\u001b[0;34m\u001b[0m\u001b[0m\n\u001b[0m",
            "\u001b[0;31mNameError\u001b[0m: name 'M' is not defined"
          ]
        }
      ]
    },
    {
      "cell_type": "code",
      "metadata": {
        "id": "NJCy08yTxTf1",
        "colab_type": "code",
        "colab": {
          "base_uri": "https://localhost:8080/",
          "height": 34
        },
        "outputId": "c268dc1d-c172-4150-856d-ea73d8570347"
      },
      "source": [
        "10<9 and 20>M"
      ],
      "execution_count": 24,
      "outputs": [
        {
          "output_type": "execute_result",
          "data": {
            "text/plain": [
              "False"
            ]
          },
          "metadata": {
            "tags": []
          },
          "execution_count": 24
        }
      ]
    },
    {
      "cell_type": "code",
      "metadata": {
        "id": "JaNWw0F_xWqT",
        "colab_type": "code",
        "colab": {
          "base_uri": "https://localhost:8080/",
          "height": 34
        },
        "outputId": "883d93d8-83fd-4c5f-94c0-eb6fd6abad94"
      },
      "source": [
        "not 10<9\n"
      ],
      "execution_count": 25,
      "outputs": [
        {
          "output_type": "execute_result",
          "data": {
            "text/plain": [
              "True"
            ]
          },
          "metadata": {
            "tags": []
          },
          "execution_count": 25
        }
      ]
    },
    {
      "cell_type": "code",
      "metadata": {
        "id": "iPDEIqepxkLs",
        "colab_type": "code",
        "colab": {
          "base_uri": "https://localhost:8080/",
          "height": 34
        },
        "outputId": "34da48c6-8e86-43f9-d8f2-992d997ea218"
      },
      "source": [
        "not True"
      ],
      "execution_count": 26,
      "outputs": [
        {
          "output_type": "execute_result",
          "data": {
            "text/plain": [
              "False"
            ]
          },
          "metadata": {
            "tags": []
          },
          "execution_count": 26
        }
      ]
    },
    {
      "cell_type": "code",
      "metadata": {
        "id": "qDnwWo7ixmlb",
        "colab_type": "code",
        "colab": {
          "base_uri": "https://localhost:8080/",
          "height": 34
        },
        "outputId": "4cf0ded3-7a29-4571-ecb2-6d80a47d5b07"
      },
      "source": [
        "str1=\"python\"\n",
        "\"o\" in str1"
      ],
      "execution_count": 27,
      "outputs": [
        {
          "output_type": "execute_result",
          "data": {
            "text/plain": [
              "True"
            ]
          },
          "metadata": {
            "tags": []
          },
          "execution_count": 27
        }
      ]
    },
    {
      "cell_type": "code",
      "metadata": {
        "id": "zvvqAVbNyWBu",
        "colab_type": "code",
        "colab": {
          "base_uri": "https://localhost:8080/",
          "height": 34
        },
        "outputId": "3081f95c-824b-4866-c9aa-fd39103edfa9"
      },
      "source": [
        "\"a\" not in str1\n"
      ],
      "execution_count": 28,
      "outputs": [
        {
          "output_type": "execute_result",
          "data": {
            "text/plain": [
              "True"
            ]
          },
          "metadata": {
            "tags": []
          },
          "execution_count": 28
        }
      ]
    },
    {
      "cell_type": "code",
      "metadata": {
        "id": "ynMcg218ydr8",
        "colab_type": "code",
        "colab": {
          "base_uri": "https://localhost:8080/",
          "height": 34
        },
        "outputId": "3f4acbbf-0b8d-4b65-d8b1-0e463b3d972c"
      },
      "source": [
        "a=10\n",
        "b=10\n",
        "a==b"
      ],
      "execution_count": 29,
      "outputs": [
        {
          "output_type": "execute_result",
          "data": {
            "text/plain": [
              "True"
            ]
          },
          "metadata": {
            "tags": []
          },
          "execution_count": 29
        }
      ]
    },
    {
      "cell_type": "code",
      "metadata": {
        "id": "EjuMSwzUyiCU",
        "colab_type": "code",
        "colab": {
          "base_uri": "https://localhost:8080/",
          "height": 34
        },
        "outputId": "66f66c4f-2864-4c6c-f318-3838bfdf97ce"
      },
      "source": [
        "a is b"
      ],
      "execution_count": 30,
      "outputs": [
        {
          "output_type": "execute_result",
          "data": {
            "text/plain": [
              "True"
            ]
          },
          "metadata": {
            "tags": []
          },
          "execution_count": 30
        }
      ]
    },
    {
      "cell_type": "code",
      "metadata": {
        "id": "wRL6Oc_vyjdV",
        "colab_type": "code",
        "colab": {
          "base_uri": "https://localhost:8080/",
          "height": 34
        },
        "outputId": "80cebdb5-2b58-42b3-878b-43dccd689379"
      },
      "source": [
        "x=1.5\n",
        "y=1.5\n",
        "x==y"
      ],
      "execution_count": 31,
      "outputs": [
        {
          "output_type": "execute_result",
          "data": {
            "text/plain": [
              "True"
            ]
          },
          "metadata": {
            "tags": []
          },
          "execution_count": 31
        }
      ]
    },
    {
      "cell_type": "code",
      "metadata": {
        "id": "IGbbUQqNyom_",
        "colab_type": "code",
        "colab": {
          "base_uri": "https://localhost:8080/",
          "height": 34
        },
        "outputId": "101eaabf-26a3-4a93-a20f-3054e1347ac2"
      },
      "source": [
        "x is y"
      ],
      "execution_count": 32,
      "outputs": [
        {
          "output_type": "execute_result",
          "data": {
            "text/plain": [
              "False"
            ]
          },
          "metadata": {
            "tags": []
          },
          "execution_count": 32
        }
      ]
    },
    {
      "cell_type": "code",
      "metadata": {
        "id": "fpAH4O-Wyr1U",
        "colab_type": "code",
        "colab": {
          "base_uri": "https://localhost:8080/",
          "height": 34
        },
        "outputId": "90dd13c4-544d-4709-b76d-52b3e2398846"
      },
      "source": [
        "id(x)"
      ],
      "execution_count": 33,
      "outputs": [
        {
          "output_type": "execute_result",
          "data": {
            "text/plain": [
              "139664976000776"
            ]
          },
          "metadata": {
            "tags": []
          },
          "execution_count": 33
        }
      ]
    },
    {
      "cell_type": "code",
      "metadata": {
        "id": "wj4CVP80yvK4",
        "colab_type": "code",
        "colab": {
          "base_uri": "https://localhost:8080/",
          "height": 34
        },
        "outputId": "03d1ec64-c735-475c-fd28-a63e92afeb7b"
      },
      "source": [
        "id(y)"
      ],
      "execution_count": 34,
      "outputs": [
        {
          "output_type": "execute_result",
          "data": {
            "text/plain": [
              "139664976000824"
            ]
          },
          "metadata": {
            "tags": []
          },
          "execution_count": 34
        }
      ]
    },
    {
      "cell_type": "code",
      "metadata": {
        "id": "LYh2cUQFywzS",
        "colab_type": "code",
        "colab": {
          "base_uri": "https://localhost:8080/",
          "height": 34
        },
        "outputId": "b47a169b-8bd5-46d2-c3b6-b1363d15271d"
      },
      "source": [
        "10+10/20*4"
      ],
      "execution_count": 35,
      "outputs": [
        {
          "output_type": "execute_result",
          "data": {
            "text/plain": [
              "12.0"
            ]
          },
          "metadata": {
            "tags": []
          },
          "execution_count": 35
        }
      ]
    },
    {
      "cell_type": "code",
      "metadata": {
        "id": "i6noRZrLy-gl",
        "colab_type": "code",
        "colab": {
          "base_uri": "https://localhost:8080/",
          "height": 34
        },
        "outputId": "9f718779-6aaf-4907-b7e3-4cc9596fe091"
      },
      "source": [
        "2**-1\n"
      ],
      "execution_count": 36,
      "outputs": [
        {
          "output_type": "execute_result",
          "data": {
            "text/plain": [
              "0.5"
            ]
          },
          "metadata": {
            "tags": []
          },
          "execution_count": 36
        }
      ]
    },
    {
      "cell_type": "code",
      "metadata": {
        "id": "CBuG9Cw6zJhF",
        "colab_type": "code",
        "colab": {}
      },
      "source": [
        ""
      ],
      "execution_count": null,
      "outputs": []
    }
  ]
}