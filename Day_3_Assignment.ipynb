{
  "nbformat": 4,
  "nbformat_minor": 0,
  "metadata": {
    "colab": {
      "name": "Day 3 Assignment.ipynb",
      "provenance": [],
      "collapsed_sections": []
    },
    "kernelspec": {
      "name": "python3",
      "display_name": "Python 3"
    }
  },
  "cells": [
    {
      "cell_type": "markdown",
      "metadata": {
        "id": "60GTbeBnliPM",
        "colab_type": "text"
      },
      "source": [
        "Question 1 : Sum of \"n\" numbers using while loop."
      ]
    },
    {
      "cell_type": "code",
      "metadata": {
        "id": "W8uLIkShlZ8J",
        "colab_type": "code",
        "colab": {
          "base_uri": "https://localhost:8080/",
          "height": 153
        },
        "outputId": "4f71b102-55ac-4e7d-8792-172752851887"
      },
      "source": [
        "n=int(input(\"Enter a number : \"))\n",
        "num = n\n",
        "sum1 = 0\n",
        "incr = 0\n",
        "print(\"Addition in descendoing order :\")\n",
        "while(n > 0):\n",
        "    sum1 = sum1+n\n",
        "    n=n-1\n",
        "    incr = incr + 1\n",
        "    print(f\" Last {incr} number --> {sum1} \")\n",
        "print(f\"The sum of first {num} natural numbers is {sum1} \")"
      ],
      "execution_count": 13,
      "outputs": [
        {
          "output_type": "stream",
          "text": [
            "Enter a number : 5\n",
            "Addition in descendoing order :\n",
            " Last 1 number --> 5 \n",
            " Last 2 number --> 9 \n",
            " Last 3 number --> 12 \n",
            " Last 4 number --> 14 \n",
            " Last 5 number --> 15 \n",
            "The sum of first 5 natural numbers is 15 \n"
          ],
          "name": "stdout"
        }
      ]
    },
    {
      "cell_type": "markdown",
      "metadata": {
        "id": "hDS6hIqEl0zs",
        "colab_type": "text"
      },
      "source": [
        "Question 2 : Take a number from user and find if it is a prime number or not."
      ]
    },
    {
      "cell_type": "code",
      "metadata": {
        "id": "AbqUoMC3lu2D",
        "colab_type": "code",
        "colab": {
          "base_uri": "https://localhost:8080/",
          "height": 51
        },
        "outputId": "fa96087b-dcb2-441b-b760-757d4cc8a530"
      },
      "source": [
        "n=int(input(\"Enter a number : \"))\n",
        "if n > 1 :\n",
        "  for each in range(2,n) :\n",
        "    if n % each == 0 :\n",
        "      print(f\"{n} is not a prime number.\")\n",
        "      break\n",
        "  else : \n",
        "      print(f\"{n} is a prime number.\")\n",
        "else :\n",
        "  print(f\"{n} is equal to or less than 1, so {n} is not a prime number\")"
      ],
      "execution_count": 14,
      "outputs": [
        {
          "output_type": "stream",
          "text": [
            "Enter a number : 5\n",
            "5 is a prime number.\n"
          ],
          "name": "stdout"
        }
      ]
    },
    {
      "cell_type": "code",
      "metadata": {
        "id": "5ZQXf8XzmKKV",
        "colab_type": "code",
        "colab": {}
      },
      "source": [
        ""
      ],
      "execution_count": null,
      "outputs": []
    }
  ]
}