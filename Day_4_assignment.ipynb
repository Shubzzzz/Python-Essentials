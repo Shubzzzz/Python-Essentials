{
  "nbformat": 4,
  "nbformat_minor": 0,
  "metadata": {
    "colab": {
      "name": "Day 4 assignment.ipynb",
      "provenance": [],
      "collapsed_sections": []
    },
    "kernelspec": {
      "name": "python3",
      "display_name": "Python 3"
    }
  },
  "cells": [
    {
      "cell_type": "code",
      "metadata": {
        "id": "8XcSWTaKBtzG",
        "colab_type": "code",
        "colab": {}
      },
      "source": [
        ""
      ],
      "execution_count": null,
      "outputs": []
    },
    {
      "cell_type": "markdown",
      "metadata": {
        "id": "rfuKdzdmBySk",
        "colab_type": "text"
      },
      "source": [
        "Question 1 : Find all occurrence of substring in the given string \"what we think we become; we are Python programmer\". Print the index value."
      ]
    },
    {
      "cell_type": "code",
      "metadata": {
        "id": "GgneTaYHCNN4",
        "colab_type": "code",
        "colab": {
          "base_uri": "https://localhost:8080/",
          "height": 102
        },
        "outputId": "2167464d-246e-4732-f982-92fc39d19424"
      },
      "source": [
        "str1 = \"what we think we become; we are Python programmer\"\n",
        "val1 = input(\"Enter the substring : \")\n",
        "i = 0\n",
        "while i != -1 :\n",
        "  i = str1.find(val1, i+1)\n",
        "  # if val1 in str1 :\n",
        "  #   i += 1\n",
        "  if i != -1:\n",
        "    print(i)\n",
        "  else :\n",
        "    print(f\"Above are the index of occurrences of your substring '{val1}'\")"
      ],
      "execution_count": 12,
      "outputs": [
        {
          "output_type": "stream",
          "text": [
            "Enter the substring : we\n",
            "5\n",
            "14\n",
            "25\n",
            "Above are the index of occurrences of your substring 'we'\n"
          ],
          "name": "stdout"
        }
      ]
    },
    {
      "cell_type": "markdown",
      "metadata": {
        "id": "QTD_sJ39ITtt",
        "colab_type": "text"
      },
      "source": [
        "Question 2 : Explain \"islower()\" and \"isupper()\" using different kind of strings."
      ]
    },
    {
      "cell_type": "code",
      "metadata": {
        "id": "buhczfIcC_6c",
        "colab_type": "code",
        "colab": {
          "base_uri": "https://localhost:8080/",
          "height": 51
        },
        "outputId": "992b2842-b1f0-41f9-9203-0c85d2185d1f"
      },
      "source": [
        "val = input(\"Enter the string : \")\n",
        "if val.isalpha():\n",
        "  if val.islower():\n",
        "    print(f\"{val} is in lower case.\")\n",
        "  elif val.isupper():\n",
        "    print(f\"{val} is in upper case.\")\n",
        "  else:\n",
        "    print(f\"{val} has both upper and lower case.\")\n",
        "else:\n",
        "  print(f\"{val} has special characters and/or numbers.\")"
      ],
      "execution_count": 13,
      "outputs": [
        {
          "output_type": "stream",
          "text": [
            "Enter the string : shubham\n",
            "shubham is in lower case.\n"
          ],
          "name": "stdout"
        }
      ]
    },
    {
      "cell_type": "code",
      "metadata": {
        "id": "i-wMXB0xJhoy",
        "colab_type": "code",
        "colab": {
          "base_uri": "https://localhost:8080/",
          "height": 51
        },
        "outputId": "de183773-0ddb-4b8b-eb2c-1e478a59dc78"
      },
      "source": [
        "val = input(\"Enter the string : \")\n",
        "if val.isalpha():\n",
        "  if val.islower():\n",
        "    print(f\"{val} is in lower case.\")\n",
        "  elif val.isupper():\n",
        "    print(f\"{val} is in upper case.\")\n",
        "  else:\n",
        "    print(f\"{val} has both upper and lower case.\")\n",
        "else:\n",
        "  print(f\"{val} has special characters and/or numbers.\")"
      ],
      "execution_count": 14,
      "outputs": [
        {
          "output_type": "stream",
          "text": [
            "Enter the string : SHUBHAM\n",
            "SHUBHAM is in upper case.\n"
          ],
          "name": "stdout"
        }
      ]
    },
    {
      "cell_type": "code",
      "metadata": {
        "id": "DH3PFDixJnsS",
        "colab_type": "code",
        "colab": {
          "base_uri": "https://localhost:8080/",
          "height": 51
        },
        "outputId": "0ed8498e-fbf2-4560-b737-3a7aafd2a0d3"
      },
      "source": [
        "val = input(\"Enter the string : \")\n",
        "if val.isalpha():\n",
        "  if val.islower():\n",
        "    print(f\"{val} is in lower case.\")\n",
        "  elif val.isupper():\n",
        "    print(f\"{val} is in upper case.\")\n",
        "  else:\n",
        "    print(f\"{val} has both upper and lower case.\")\n",
        "else:\n",
        "  print(f\"{val} has special characters and/or numbers.\")"
      ],
      "execution_count": 30,
      "outputs": [
        {
          "output_type": "stream",
          "text": [
            "Enter the string : Shubham\n",
            "Shubham has both upper and lower case.\n"
          ],
          "name": "stdout"
        }
      ]
    },
    {
      "cell_type": "code",
      "metadata": {
        "id": "JAA4h_JLJtAO",
        "colab_type": "code",
        "colab": {
          "base_uri": "https://localhost:8080/",
          "height": 51
        },
        "outputId": "d2c56ad9-8521-419d-9d02-35811d4e16c5"
      },
      "source": [
        "val = input(\"Enter the string : \")\n",
        "if val.isalpha():\n",
        "  if val.islower():\n",
        "    print(f\"{val} is in lower case.\")\n",
        "  elif val.isupper():\n",
        "    print(f\"{val} is in upper case.\")\n",
        "  else:\n",
        "    print(f\"{val} has both upper and lower case.\")\n",
        "else:\n",
        "  print(f\"{val} has special characters and/or numbers.\")"
      ],
      "execution_count": 31,
      "outputs": [
        {
          "output_type": "stream",
          "text": [
            "Enter the string : shubhamdk1324567890@gmail.com\n",
            "shubhamdk1324567890@gmail.com has special characters and/or numbers.\n"
          ],
          "name": "stdout"
        }
      ]
    },
    {
      "cell_type": "code",
      "metadata": {
        "id": "XhdHctcnM1HX",
        "colab_type": "code",
        "colab": {}
      },
      "source": [
        ""
      ],
      "execution_count": null,
      "outputs": []
    }
  ]
}