{
  "nbformat": 4,
  "nbformat_minor": 0,
  "metadata": {
    "colab": {
      "name": "Day 5 Assignment.ipynb",
      "provenance": [],
      "collapsed_sections": []
    },
    "kernelspec": {
      "name": "python3",
      "display_name": "Python 3"
    }
  },
  "cells": [
    {
      "cell_type": "markdown",
      "metadata": {
        "id": "yNIlDIDnVFr7",
        "colab_type": "text"
      },
      "source": [
        "Question 1 : [0,1,2,10,4,1,0,56,2,0,1,3,0,56,0,4] Sort by increasing order but all zeros should be at the last."
      ]
    },
    {
      "cell_type": "code",
      "metadata": {
        "id": "mIL1oiyZSc4U",
        "colab_type": "code",
        "colab": {
          "base_uri": "https://localhost:8080/",
          "height": 34
        },
        "outputId": "10ca695e-1f6d-4ac5-e83d-904fe74ab882"
      },
      "source": [
        "list1 = [0,1,2,10,4,1,0,56,2,0,1,3,0,56,0,4]\n",
        "list1.sort()\n",
        "a = list1.count(0)\n",
        "print(list1[a:]+list1[:a])"
      ],
      "execution_count": 18,
      "outputs": [
        {
          "output_type": "stream",
          "text": [
            "[1, 1, 1, 2, 2, 3, 4, 4, 10, 56, 56, 0, 0, 0, 0, 0]\n"
          ],
          "name": "stdout"
        }
      ]
    },
    {
      "cell_type": "markdown",
      "metadata": {
        "id": "PuEOpvvHVaIy",
        "colab_type": "text"
      },
      "source": [
        "Question 2 : list1=[10,20,40,60,70,80] list2=[5,15,25,35,45,60] Merge these two sorted lists to produce one sorted list, and use for loop or while loop only once."
      ]
    },
    {
      "cell_type": "code",
      "metadata": {
        "id": "GVpmNiSFS_gs",
        "colab_type": "code",
        "colab": {
          "base_uri": "https://localhost:8080/",
          "height": 34
        },
        "outputId": "c7bf505c-bc60-480f-b38e-20eb06948907"
      },
      "source": [
        "list1 = [10,20,40,60,70,80]\n",
        "list2 = [5,15,25,35,45,60]\n",
        "list3 = list1+list2\n",
        "list4 = []\n",
        "for each in range(min(list3),max(list3)+1):\n",
        "    if each in list3:\n",
        "        list4.append(each)\n",
        "print(list4)"
      ],
      "execution_count": 33,
      "outputs": [
        {
          "output_type": "stream",
          "text": [
            "[5, 10, 15, 20, 25, 35, 40, 45, 60, 70, 80]\n"
          ],
          "name": "stdout"
        }
      ]
    },
    {
      "cell_type": "code",
      "metadata": {
        "id": "zaPWYGZZTJjl",
        "colab_type": "code",
        "colab": {}
      },
      "source": [
        ""
      ],
      "execution_count": null,
      "outputs": []
    }
  ]
}